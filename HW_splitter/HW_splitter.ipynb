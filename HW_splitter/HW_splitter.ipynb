{
 "cells": [
  {
   "cell_type": "markdown",
   "source": [
    "# Split HWs\n",
    "\n",
    "This notebook will split the HW into 3 folds for evaluation."
   ],
   "metadata": {
    "collapsed": false
   }
  },
  {
   "cell_type": "code",
   "execution_count": 1,
   "metadata": {
    "ExecuteTime": {
     "start_time": "2023-04-04T13:19:14.063463Z",
     "end_time": "2023-04-04T13:19:14.770466Z"
    }
   },
   "outputs": [],
   "source": [
    "import pandas as pd\n",
    "import glob\n",
    "from shutil import copyfile\n",
    "import os\n",
    "from pathlib import Path\n",
    "import unicodedata"
   ]
  },
  {
   "cell_type": "code",
   "execution_count": 2,
   "outputs": [
    {
     "data": {
      "text/plain": "        First name     Surname  ID number Degree Code  \\\n0            AGATA      GARBIN    2072693      SC2377   \n1     AHMAD ZUBAIR       ZAHID    2070876      SC2542   \n2       AIDAN SCOT       CLARK    2095143           F   \n3          ALBERTO     MENGATO    2063551      SC2542   \n4          ALBERTO       ZANON    2017429      SC2542   \n..             ...         ...        ...         ...   \n276       VINCENZO    SPINELLO    2097392      SC2598   \n277  VINU VARSHITH   ALAGAPPAN    2041267      SC2542   \n278    VLAD-GEORGE     IONESCU    2072115      SC2542   \n279         YELNUR  SHAUKETBEK    2078709      SC2377   \n280      ZIYAD O M     MUSTAFA    2081005      SC2542   \n\n                                Email address                Full Name  \n0              agata.garbin@studenti.unipd.it             AGATA GARBIN  \n1         ahmadzubair.zahid@studenti.unipd.it       AHMAD ZUBAIR ZAHID  \n2           aidanscot.clark@studenti.unipd.it         AIDAN SCOT CLARK  \n3           alberto.mengato@studenti.unipd.it          ALBERTO MENGATO  \n4           alberto.zanon.9@studenti.unipd.it            ALBERTO ZANON  \n..                                        ...                      ...  \n276       vincenzo.spinello@studenti.unipd.it        VINCENZO SPINELLO  \n277  vinuvarshith.alagappan@studenti.unipd.it  VINU VARSHITH ALAGAPPAN  \n278      vladgeorge.ionescu@studenti.unipd.it      VLAD-GEORGE IONESCU  \n279       yelnur.shauketbek@studenti.unipd.it        YELNUR SHAUKETBEK  \n280         ziyadom.mustafa@studenti.unipd.it        ZIYAD O M MUSTAFA  \n\n[281 rows x 6 columns]",
      "text/html": "<div>\n<style scoped>\n    .dataframe tbody tr th:only-of-type {\n        vertical-align: middle;\n    }\n\n    .dataframe tbody tr th {\n        vertical-align: top;\n    }\n\n    .dataframe thead th {\n        text-align: right;\n    }\n</style>\n<table border=\"1\" class=\"dataframe\">\n  <thead>\n    <tr style=\"text-align: right;\">\n      <th></th>\n      <th>First name</th>\n      <th>Surname</th>\n      <th>ID number</th>\n      <th>Degree Code</th>\n      <th>Email address</th>\n      <th>Full Name</th>\n    </tr>\n  </thead>\n  <tbody>\n    <tr>\n      <th>0</th>\n      <td>AGATA</td>\n      <td>GARBIN</td>\n      <td>2072693</td>\n      <td>SC2377</td>\n      <td>agata.garbin@studenti.unipd.it</td>\n      <td>AGATA GARBIN</td>\n    </tr>\n    <tr>\n      <th>1</th>\n      <td>AHMAD ZUBAIR</td>\n      <td>ZAHID</td>\n      <td>2070876</td>\n      <td>SC2542</td>\n      <td>ahmadzubair.zahid@studenti.unipd.it</td>\n      <td>AHMAD ZUBAIR ZAHID</td>\n    </tr>\n    <tr>\n      <th>2</th>\n      <td>AIDAN SCOT</td>\n      <td>CLARK</td>\n      <td>2095143</td>\n      <td>F</td>\n      <td>aidanscot.clark@studenti.unipd.it</td>\n      <td>AIDAN SCOT CLARK</td>\n    </tr>\n    <tr>\n      <th>3</th>\n      <td>ALBERTO</td>\n      <td>MENGATO</td>\n      <td>2063551</td>\n      <td>SC2542</td>\n      <td>alberto.mengato@studenti.unipd.it</td>\n      <td>ALBERTO MENGATO</td>\n    </tr>\n    <tr>\n      <th>4</th>\n      <td>ALBERTO</td>\n      <td>ZANON</td>\n      <td>2017429</td>\n      <td>SC2542</td>\n      <td>alberto.zanon.9@studenti.unipd.it</td>\n      <td>ALBERTO ZANON</td>\n    </tr>\n    <tr>\n      <th>...</th>\n      <td>...</td>\n      <td>...</td>\n      <td>...</td>\n      <td>...</td>\n      <td>...</td>\n      <td>...</td>\n    </tr>\n    <tr>\n      <th>276</th>\n      <td>VINCENZO</td>\n      <td>SPINELLO</td>\n      <td>2097392</td>\n      <td>SC2598</td>\n      <td>vincenzo.spinello@studenti.unipd.it</td>\n      <td>VINCENZO SPINELLO</td>\n    </tr>\n    <tr>\n      <th>277</th>\n      <td>VINU VARSHITH</td>\n      <td>ALAGAPPAN</td>\n      <td>2041267</td>\n      <td>SC2542</td>\n      <td>vinuvarshith.alagappan@studenti.unipd.it</td>\n      <td>VINU VARSHITH ALAGAPPAN</td>\n    </tr>\n    <tr>\n      <th>278</th>\n      <td>VLAD-GEORGE</td>\n      <td>IONESCU</td>\n      <td>2072115</td>\n      <td>SC2542</td>\n      <td>vladgeorge.ionescu@studenti.unipd.it</td>\n      <td>VLAD-GEORGE IONESCU</td>\n    </tr>\n    <tr>\n      <th>279</th>\n      <td>YELNUR</td>\n      <td>SHAUKETBEK</td>\n      <td>2078709</td>\n      <td>SC2377</td>\n      <td>yelnur.shauketbek@studenti.unipd.it</td>\n      <td>YELNUR SHAUKETBEK</td>\n    </tr>\n    <tr>\n      <th>280</th>\n      <td>ZIYAD O M</td>\n      <td>MUSTAFA</td>\n      <td>2081005</td>\n      <td>SC2542</td>\n      <td>ziyadom.mustafa@studenti.unipd.it</td>\n      <td>ZIYAD O M MUSTAFA</td>\n    </tr>\n  </tbody>\n</table>\n<p>281 rows × 6 columns</p>\n</div>"
     },
     "execution_count": 2,
     "metadata": {},
     "output_type": "execute_result"
    }
   ],
   "source": [
    "# Read file from Google Drive with all the students\n",
    "all_students = pd.read_csv(\n",
    "    \"https://docs.google.com/spreadsheets/d/e/2PACX-1vSmsR2gwRdJ8qj0lWryQgy2KINTwVq_YICiJVqLZI2WP9oNtGXKyjg05BI7H3NejOWPCIOSs3Wlflix/pub?gid=0&single=true&output=csv\")\n",
    "# Keep relevant columns\n",
    "all_students = all_students.loc[:,['First name','Surname', 'ID number', 'Degree Code', 'Email address']]\n",
    "all_students = all_students.drop_duplicates()\n",
    "all_students['Full Name'] = all_students['First name'] + ' ' + all_students['Surname']\n",
    "# remove apostrophe from full name\n",
    "all_students['Full Name'] = all_students['Full Name'].str.replace(\"'\", \"\")\n",
    "# sort by full name\n",
    "all_students = all_students.sort_values(by='Full Name')\n",
    "all_students = all_students.reset_index(drop=True)\n",
    "all_students"
   ],
   "metadata": {
    "collapsed": false,
    "ExecuteTime": {
     "start_time": "2023-04-04T13:19:14.760465Z",
     "end_time": "2023-04-04T13:19:16.487462Z"
    }
   }
  },
  {
   "cell_type": "markdown",
   "source": [
    "## [NOT WORKING] by Student ID\n",
    "Next, load the folder with submissions from both channels."
   ],
   "metadata": {
    "collapsed": false
   }
  },
  {
   "cell_type": "code",
   "execution_count": 17,
   "outputs": [
    {
     "name": "stdout",
     "output_type": "stream",
     "text": [
      "There are 200 submisisons\n"
     ]
    }
   ],
   "source": [
    "sub_folder = Path(\"./HW1_1sub\").resolve()\n",
    "# iterate over the folders and get ID number from name\n",
    "all_IDs = []\n",
    "for folder in sub_folder.iterdir():\n",
    "    # iterate over the files in the folder and extract ID number from filename\n",
    "    for file in folder.iterdir():\n",
    "        if file.is_file() and file.suffix == '.ipynb':\n",
    "            all_IDs.append(file.stem.split(\"_\")[0])\n",
    "print(\"There are {} submisisons\".format(len(all_IDs)))"
   ],
   "metadata": {
    "collapsed": false,
    "ExecuteTime": {
     "start_time": "2023-04-04T12:09:52.554545Z",
     "end_time": "2023-04-04T12:09:52.620541Z"
    }
   }
  },
  {
   "cell_type": "code",
   "execution_count": 24,
   "outputs": [
    {
     "name": "stdout",
     "output_type": "stream",
     "text": [
      "There are 171 numbers in the list\n"
     ]
    }
   ],
   "source": [
    "# count how many elements in the list are numbers\n",
    "count = 0\n",
    "all_IDs_numbers = []\n",
    "for i in all_IDs:\n",
    "    try:\n",
    "        all_IDs_numbers.append(int(i))\n",
    "        count += 1\n",
    "    except:\n",
    "        pass\n",
    "\n",
    "print(\"There are {} numbers in the list\".format(count))"
   ],
   "metadata": {
    "collapsed": false,
    "ExecuteTime": {
     "start_time": "2023-04-04T12:20:37.458207Z",
     "end_time": "2023-04-04T12:20:37.469207Z"
    }
   }
  },
  {
   "cell_type": "markdown",
   "source": [
    "So 15% of students are not complying with the HW instructions!\n",
    "## by Student Name"
   ],
   "metadata": {
    "collapsed": false
   }
  },
  {
   "cell_type": "code",
   "execution_count": 3,
   "outputs": [],
   "source": [
    "# Define folder with merged submissions from both channels\n",
    "sub_folder = Path(\"./HW1_1sub\").resolve()"
   ],
   "metadata": {
    "collapsed": false,
    "ExecuteTime": {
     "start_time": "2023-04-04T13:19:16.486994Z",
     "end_time": "2023-04-04T13:19:16.551462Z"
    }
   }
  },
  {
   "cell_type": "code",
   "execution_count": 4,
   "outputs": [
    {
     "name": "stdout",
     "output_type": "stream",
     "text": [
      "There are 199 submisisons\n"
     ]
    }
   ],
   "source": [
    "# Extract Names from folders names\n",
    "sub_names = []\n",
    "for folder in sub_folder.iterdir():\n",
    "    if folder.is_dir():\n",
    "        name = folder.name.split(\"_\")[0]\n",
    "        sub_names.append(name)\n",
    "        # check whether name is in all_students or not\n",
    "        if name not in all_students['Full Name'].values:\n",
    "            print(\"Name {} is not present in all_students\".format(name))\n",
    "print(\"There are {} submisisons\".format(len(sub_names)))"
   ],
   "metadata": {
    "collapsed": false,
    "ExecuteTime": {
     "start_time": "2023-04-04T13:19:17.680462Z",
     "end_time": "2023-04-04T13:19:17.718462Z"
    }
   }
  },
  {
   "cell_type": "code",
   "execution_count": 5,
   "outputs": [
    {
     "data": {
      "text/plain": "           First name         Surname  ID number Degree Code  \\\n0               AGATA          GARBIN    2072693      SC2377   \n1        AHMAD ZUBAIR           ZAHID    2070876      SC2542   \n5    ALEJANDRA OLIVIA  CRUCES ANDREWS    2078632      SC2377   \n7          ALESSANDRO           CANEL    2097570      SC2598   \n8          ALESSANDRO           CORSI    2087928      SC2542   \n..                ...             ...        ...         ...   \n276          VINCENZO        SPINELLO    2097392      SC2598   \n277     VINU VARSHITH       ALAGAPPAN    2041267      SC2542   \n278       VLAD-GEORGE         IONESCU    2072115      SC2542   \n279            YELNUR      SHAUKETBEK    2078709      SC2377   \n280         ZIYAD O M         MUSTAFA    2081005      SC2542   \n\n                                       Email address  \\\n0                     agata.garbin@studenti.unipd.it   \n1                ahmadzubair.zahid@studenti.unipd.it   \n5    alejandraolivia.crucesandrews@studenti.unipd.it   \n7                 alessandro.canel@studenti.unipd.it   \n8               alessandro.corsi.2@studenti.unipd.it   \n..                                               ...   \n276              vincenzo.spinello@studenti.unipd.it   \n277         vinuvarshith.alagappan@studenti.unipd.it   \n278             vladgeorge.ionescu@studenti.unipd.it   \n279              yelnur.shauketbek@studenti.unipd.it   \n280                ziyadom.mustafa@studenti.unipd.it   \n\n                           Full Name  \n0                       AGATA GARBIN  \n1                 AHMAD ZUBAIR ZAHID  \n5    ALEJANDRA OLIVIA CRUCES ANDREWS  \n7                   ALESSANDRO CANEL  \n8                   ALESSANDRO CORSI  \n..                               ...  \n276                VINCENZO SPINELLO  \n277          VINU VARSHITH ALAGAPPAN  \n278              VLAD-GEORGE IONESCU  \n279                YELNUR SHAUKETBEK  \n280                ZIYAD O M MUSTAFA  \n\n[199 rows x 6 columns]",
      "text/html": "<div>\n<style scoped>\n    .dataframe tbody tr th:only-of-type {\n        vertical-align: middle;\n    }\n\n    .dataframe tbody tr th {\n        vertical-align: top;\n    }\n\n    .dataframe thead th {\n        text-align: right;\n    }\n</style>\n<table border=\"1\" class=\"dataframe\">\n  <thead>\n    <tr style=\"text-align: right;\">\n      <th></th>\n      <th>First name</th>\n      <th>Surname</th>\n      <th>ID number</th>\n      <th>Degree Code</th>\n      <th>Email address</th>\n      <th>Full Name</th>\n    </tr>\n  </thead>\n  <tbody>\n    <tr>\n      <th>0</th>\n      <td>AGATA</td>\n      <td>GARBIN</td>\n      <td>2072693</td>\n      <td>SC2377</td>\n      <td>agata.garbin@studenti.unipd.it</td>\n      <td>AGATA GARBIN</td>\n    </tr>\n    <tr>\n      <th>1</th>\n      <td>AHMAD ZUBAIR</td>\n      <td>ZAHID</td>\n      <td>2070876</td>\n      <td>SC2542</td>\n      <td>ahmadzubair.zahid@studenti.unipd.it</td>\n      <td>AHMAD ZUBAIR ZAHID</td>\n    </tr>\n    <tr>\n      <th>5</th>\n      <td>ALEJANDRA OLIVIA</td>\n      <td>CRUCES ANDREWS</td>\n      <td>2078632</td>\n      <td>SC2377</td>\n      <td>alejandraolivia.crucesandrews@studenti.unipd.it</td>\n      <td>ALEJANDRA OLIVIA CRUCES ANDREWS</td>\n    </tr>\n    <tr>\n      <th>7</th>\n      <td>ALESSANDRO</td>\n      <td>CANEL</td>\n      <td>2097570</td>\n      <td>SC2598</td>\n      <td>alessandro.canel@studenti.unipd.it</td>\n      <td>ALESSANDRO CANEL</td>\n    </tr>\n    <tr>\n      <th>8</th>\n      <td>ALESSANDRO</td>\n      <td>CORSI</td>\n      <td>2087928</td>\n      <td>SC2542</td>\n      <td>alessandro.corsi.2@studenti.unipd.it</td>\n      <td>ALESSANDRO CORSI</td>\n    </tr>\n    <tr>\n      <th>...</th>\n      <td>...</td>\n      <td>...</td>\n      <td>...</td>\n      <td>...</td>\n      <td>...</td>\n      <td>...</td>\n    </tr>\n    <tr>\n      <th>276</th>\n      <td>VINCENZO</td>\n      <td>SPINELLO</td>\n      <td>2097392</td>\n      <td>SC2598</td>\n      <td>vincenzo.spinello@studenti.unipd.it</td>\n      <td>VINCENZO SPINELLO</td>\n    </tr>\n    <tr>\n      <th>277</th>\n      <td>VINU VARSHITH</td>\n      <td>ALAGAPPAN</td>\n      <td>2041267</td>\n      <td>SC2542</td>\n      <td>vinuvarshith.alagappan@studenti.unipd.it</td>\n      <td>VINU VARSHITH ALAGAPPAN</td>\n    </tr>\n    <tr>\n      <th>278</th>\n      <td>VLAD-GEORGE</td>\n      <td>IONESCU</td>\n      <td>2072115</td>\n      <td>SC2542</td>\n      <td>vladgeorge.ionescu@studenti.unipd.it</td>\n      <td>VLAD-GEORGE IONESCU</td>\n    </tr>\n    <tr>\n      <th>279</th>\n      <td>YELNUR</td>\n      <td>SHAUKETBEK</td>\n      <td>2078709</td>\n      <td>SC2377</td>\n      <td>yelnur.shauketbek@studenti.unipd.it</td>\n      <td>YELNUR SHAUKETBEK</td>\n    </tr>\n    <tr>\n      <th>280</th>\n      <td>ZIYAD O M</td>\n      <td>MUSTAFA</td>\n      <td>2081005</td>\n      <td>SC2542</td>\n      <td>ziyadom.mustafa@studenti.unipd.it</td>\n      <td>ZIYAD O M MUSTAFA</td>\n    </tr>\n  </tbody>\n</table>\n<p>199 rows × 6 columns</p>\n</div>"
     },
     "execution_count": 5,
     "metadata": {},
     "output_type": "execute_result"
    }
   ],
   "source": [
    "# check names where are present in all_students\n",
    "submissions = all_students[all_students['Full Name'].isin(sub_names)]\n",
    "submissions"
   ],
   "metadata": {
    "collapsed": false,
    "ExecuteTime": {
     "start_time": "2023-04-04T13:19:19.186475Z",
     "end_time": "2023-04-04T13:19:19.222473Z"
    }
   }
  },
  {
   "cell_type": "code",
   "execution_count": 6,
   "outputs": [
    {
     "name": "stdout",
     "output_type": "stream",
     "text": [
      "set()\n"
     ]
    }
   ],
   "source": [
    "# Look for duplicates\n",
    "dup = {x for x in sub_names if sub_names.count(x) >1}\n",
    "print(dup)"
   ],
   "metadata": {
    "collapsed": false,
    "ExecuteTime": {
     "start_time": "2023-04-04T13:19:20.133752Z",
     "end_time": "2023-04-04T13:19:20.152473Z"
    }
   }
  },
  {
   "cell_type": "code",
   "execution_count": 7,
   "outputs": [
    {
     "name": "stdout",
     "output_type": "stream",
     "text": [
      "Submisisons in 3 blocks of length: [67, 66, 66]\n"
     ]
    }
   ],
   "source": [
    "# Split the dataframe in 3 blocks\n",
    "from more_itertools import divide\n",
    "sub_chunks = divide(3, submissions.index)\n",
    "sub_chunks = [list(x) for x in sub_chunks]\n",
    "print(f\"Submisisons in 3 blocks of length: {[len(sub_chunks[i]) for i in range(3)]}\")"
   ],
   "metadata": {
    "collapsed": false,
    "ExecuteTime": {
     "start_time": "2023-04-04T13:19:28.604535Z",
     "end_time": "2023-04-04T13:19:28.655535Z"
    }
   }
  },
  {
   "cell_type": "code",
   "execution_count": 8,
   "outputs": [
    {
     "name": "stderr",
     "output_type": "stream",
     "text": [
      "C:\\Users\\paolo\\AppData\\Local\\Temp\\ipykernel_20684\\3176314675.py:4: SettingWithCopyWarning: \n",
      "A value is trying to be set on a copy of a slice from a DataFrame.\n",
      "Try using .loc[row_indexer,col_indexer] = value instead\n",
      "\n",
      "See the caveats in the documentation: https://pandas.pydata.org/pandas-docs/stable/user_guide/indexing.html#returning-a-view-versus-a-copy\n",
      "  submissions.loc[sub_chunks[i], \"TA\"] = ta\n"
     ]
    },
    {
     "data": {
      "text/plain": "           First name         Surname  ID number Degree Code  \\\n0               AGATA          GARBIN    2072693      SC2377   \n1        AHMAD ZUBAIR           ZAHID    2070876      SC2542   \n5    ALEJANDRA OLIVIA  CRUCES ANDREWS    2078632      SC2377   \n7          ALESSANDRO           CANEL    2097570      SC2598   \n8          ALESSANDRO           CORSI    2087928      SC2542   \n..                ...             ...        ...         ...   \n276          VINCENZO        SPINELLO    2097392      SC2598   \n277     VINU VARSHITH       ALAGAPPAN    2041267      SC2542   \n278       VLAD-GEORGE         IONESCU    2072115      SC2542   \n279            YELNUR      SHAUKETBEK    2078709      SC2377   \n280         ZIYAD O M         MUSTAFA    2081005      SC2542   \n\n                                       Email address  \\\n0                     agata.garbin@studenti.unipd.it   \n1                ahmadzubair.zahid@studenti.unipd.it   \n5    alejandraolivia.crucesandrews@studenti.unipd.it   \n7                 alessandro.canel@studenti.unipd.it   \n8               alessandro.corsi.2@studenti.unipd.it   \n..                                               ...   \n276              vincenzo.spinello@studenti.unipd.it   \n277         vinuvarshith.alagappan@studenti.unipd.it   \n278             vladgeorge.ionescu@studenti.unipd.it   \n279              yelnur.shauketbek@studenti.unipd.it   \n280                ziyadom.mustafa@studenti.unipd.it   \n\n                           Full Name      TA  \n0                       AGATA GARBIN  Flavio  \n1                 AHMAD ZUBAIR ZAHID  Flavio  \n5    ALEJANDRA OLIVIA CRUCES ANDREWS  Flavio  \n7                   ALESSANDRO CANEL  Flavio  \n8                   ALESSANDRO CORSI  Flavio  \n..                               ...     ...  \n276                VINCENZO SPINELLO   Uzair  \n277          VINU VARSHITH ALAGAPPAN   Uzair  \n278              VLAD-GEORGE IONESCU   Uzair  \n279                YELNUR SHAUKETBEK   Uzair  \n280                ZIYAD O M MUSTAFA   Uzair  \n\n[199 rows x 7 columns]",
      "text/html": "<div>\n<style scoped>\n    .dataframe tbody tr th:only-of-type {\n        vertical-align: middle;\n    }\n\n    .dataframe tbody tr th {\n        vertical-align: top;\n    }\n\n    .dataframe thead th {\n        text-align: right;\n    }\n</style>\n<table border=\"1\" class=\"dataframe\">\n  <thead>\n    <tr style=\"text-align: right;\">\n      <th></th>\n      <th>First name</th>\n      <th>Surname</th>\n      <th>ID number</th>\n      <th>Degree Code</th>\n      <th>Email address</th>\n      <th>Full Name</th>\n      <th>TA</th>\n    </tr>\n  </thead>\n  <tbody>\n    <tr>\n      <th>0</th>\n      <td>AGATA</td>\n      <td>GARBIN</td>\n      <td>2072693</td>\n      <td>SC2377</td>\n      <td>agata.garbin@studenti.unipd.it</td>\n      <td>AGATA GARBIN</td>\n      <td>Flavio</td>\n    </tr>\n    <tr>\n      <th>1</th>\n      <td>AHMAD ZUBAIR</td>\n      <td>ZAHID</td>\n      <td>2070876</td>\n      <td>SC2542</td>\n      <td>ahmadzubair.zahid@studenti.unipd.it</td>\n      <td>AHMAD ZUBAIR ZAHID</td>\n      <td>Flavio</td>\n    </tr>\n    <tr>\n      <th>5</th>\n      <td>ALEJANDRA OLIVIA</td>\n      <td>CRUCES ANDREWS</td>\n      <td>2078632</td>\n      <td>SC2377</td>\n      <td>alejandraolivia.crucesandrews@studenti.unipd.it</td>\n      <td>ALEJANDRA OLIVIA CRUCES ANDREWS</td>\n      <td>Flavio</td>\n    </tr>\n    <tr>\n      <th>7</th>\n      <td>ALESSANDRO</td>\n      <td>CANEL</td>\n      <td>2097570</td>\n      <td>SC2598</td>\n      <td>alessandro.canel@studenti.unipd.it</td>\n      <td>ALESSANDRO CANEL</td>\n      <td>Flavio</td>\n    </tr>\n    <tr>\n      <th>8</th>\n      <td>ALESSANDRO</td>\n      <td>CORSI</td>\n      <td>2087928</td>\n      <td>SC2542</td>\n      <td>alessandro.corsi.2@studenti.unipd.it</td>\n      <td>ALESSANDRO CORSI</td>\n      <td>Flavio</td>\n    </tr>\n    <tr>\n      <th>...</th>\n      <td>...</td>\n      <td>...</td>\n      <td>...</td>\n      <td>...</td>\n      <td>...</td>\n      <td>...</td>\n      <td>...</td>\n    </tr>\n    <tr>\n      <th>276</th>\n      <td>VINCENZO</td>\n      <td>SPINELLO</td>\n      <td>2097392</td>\n      <td>SC2598</td>\n      <td>vincenzo.spinello@studenti.unipd.it</td>\n      <td>VINCENZO SPINELLO</td>\n      <td>Uzair</td>\n    </tr>\n    <tr>\n      <th>277</th>\n      <td>VINU VARSHITH</td>\n      <td>ALAGAPPAN</td>\n      <td>2041267</td>\n      <td>SC2542</td>\n      <td>vinuvarshith.alagappan@studenti.unipd.it</td>\n      <td>VINU VARSHITH ALAGAPPAN</td>\n      <td>Uzair</td>\n    </tr>\n    <tr>\n      <th>278</th>\n      <td>VLAD-GEORGE</td>\n      <td>IONESCU</td>\n      <td>2072115</td>\n      <td>SC2542</td>\n      <td>vladgeorge.ionescu@studenti.unipd.it</td>\n      <td>VLAD-GEORGE IONESCU</td>\n      <td>Uzair</td>\n    </tr>\n    <tr>\n      <th>279</th>\n      <td>YELNUR</td>\n      <td>SHAUKETBEK</td>\n      <td>2078709</td>\n      <td>SC2377</td>\n      <td>yelnur.shauketbek@studenti.unipd.it</td>\n      <td>YELNUR SHAUKETBEK</td>\n      <td>Uzair</td>\n    </tr>\n    <tr>\n      <th>280</th>\n      <td>ZIYAD O M</td>\n      <td>MUSTAFA</td>\n      <td>2081005</td>\n      <td>SC2542</td>\n      <td>ziyadom.mustafa@studenti.unipd.it</td>\n      <td>ZIYAD O M MUSTAFA</td>\n      <td>Uzair</td>\n    </tr>\n  </tbody>\n</table>\n<p>199 rows × 7 columns</p>\n</div>"
     },
     "execution_count": 8,
     "metadata": {},
     "output_type": "execute_result"
    }
   ],
   "source": [
    "# Split among TAs\n",
    "TAs = ['Flavio', 'Paolo', 'Uzair']\n",
    "for i, ta in enumerate(TAs):\n",
    "    submissions.loc[sub_chunks[i], \"TA\"] = ta\n",
    "submissions"
   ],
   "metadata": {
    "collapsed": false,
    "ExecuteTime": {
     "start_time": "2023-04-04T13:19:40.030349Z",
     "end_time": "2023-04-04T13:19:40.073346Z"
    }
   }
  },
  {
   "cell_type": "code",
   "execution_count": 11,
   "outputs": [
    {
     "name": "stderr",
     "output_type": "stream",
     "text": [
      "C:\\Users\\paolo\\AppData\\Local\\Temp\\ipykernel_20684\\677610837.py:2: SettingWithCopyWarning: \n",
      "A value is trying to be set on a copy of a slice from a DataFrame.\n",
      "Try using .loc[row_indexer,col_indexer] = value instead\n",
      "\n",
      "See the caveats in the documentation: https://pandas.pydata.org/pandas-docs/stable/user_guide/indexing.html#returning-a-view-versus-a-copy\n",
      "  submissions[\"Final Grade\"] = 0\n",
      "C:\\Users\\paolo\\AppData\\Local\\Temp\\ipykernel_20684\\677610837.py:3: SettingWithCopyWarning: \n",
      "A value is trying to be set on a copy of a slice from a DataFrame.\n",
      "Try using .loc[row_indexer,col_indexer] = value instead\n",
      "\n",
      "See the caveats in the documentation: https://pandas.pydata.org/pandas-docs/stable/user_guide/indexing.html#returning-a-view-versus-a-copy\n",
      "  submissions[\"Feedback\"] = \"\"\n"
     ]
    }
   ],
   "source": [
    "# Add columns\n",
    "submissions[\"Final Grade\"] = 0\n",
    "submissions[\"Feedback\"] = \"\"\n",
    "# Export dataframe to excel\n",
    "submissions.to_excel(sub_folder.stem + \".xlsx\", index=False)"
   ],
   "metadata": {
    "collapsed": false,
    "ExecuteTime": {
     "start_time": "2023-04-04T13:23:27.025865Z",
     "end_time": "2023-04-04T13:23:27.095864Z"
    }
   }
  }
 ],
 "metadata": {
  "kernelspec": {
   "display_name": "Python 3 (ipykernel)",
   "language": "python",
   "name": "python3"
  },
  "language_info": {
   "codemirror_mode": {
    "name": "ipython",
    "version": 3
   },
   "file_extension": ".py",
   "mimetype": "text/x-python",
   "name": "python",
   "nbconvert_exporter": "python",
   "pygments_lexer": "ipython3",
   "version": "3.9.7"
  }
 },
 "nbformat": 4,
 "nbformat_minor": 4
}
